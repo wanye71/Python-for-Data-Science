{
 "cells": [
  {
   "cell_type": "code",
   "execution_count": 3,
   "metadata": {},
   "outputs": [],
   "source": [
    "# Ah, the magic spell to summon JSON from the depths of the digital realm!\n",
    "import json"
   ]
  },
  {
   "cell_type": "code",
   "execution_count": 6,
   "metadata": {},
   "outputs": [],
   "source": [
    "# Yo, check it! Picture this: you got this fat scroll, like one ancient manuscript, but it ain't parchment and ink, it's all digital, stored up in the heart of the computer.\n",
    "# So, you crack open this scroll using Python magic, just one slick line of code.\n",
    "# We call this line `open('../MonthySalesByCategory.json')`. This line, it's like the key to the vault. It opens the door to the JSON world, letting us take a peek inside.\n",
    "\n",
    "# Now, peep the `with` keyword? That's like the bouncer at the club, making sure we don't cause no trouble, closing the door behind us when we're done.\n",
    "# Inside the `with` block, we got the `json.load(json_data)` line. That's where the real magic happens, fam!\n",
    "# It reads the JSON data, like cracking a secret code, and transforms it into a Python dictionary. Mind-blowing, right?\n",
    "# So now, we got the loot in our hands, ready to uncover the riches it holds!\n",
    "\n",
    "# Open up the JSON file like it's the key to a hidden treasure\n",
    "with open('../MonthySalesByCategory.json') as json_data:\n",
    "    # Read the JSON data and convert it into a Python dictionary\n",
    "    d = json.load(json_data)"
   ]
  },
  {
   "cell_type": "code",
   "execution_count": 7,
   "metadata": {},
   "outputs": [
    {
     "name": "stdout",
     "output_type": "stream",
     "text": [
      "{'contents': [{'category': 'Furniture',\n",
      "               'monthlySales': [{'month': 20130101, 'sales': 38},\n",
      "                                {'month': 20130201, 'sales': 35},\n",
      "                                {'month': 20130301, 'sales': 41},\n",
      "                                {'month': 20130401, 'sales': 55},\n",
      "                                {'month': 20130501, 'sales': 58},\n",
      "                                {'month': 20130601, 'sales': 66},\n",
      "                                {'month': 20130701, 'sales': 74},\n",
      "                                {'month': 20130801, 'sales': 78},\n",
      "                                {'month': 20130901, 'sales': 38},\n",
      "                                {'month': 20131001, 'sales': 30},\n",
      "                                {'month': 20131101, 'sales': 26},\n",
      "                                {'month': 20131201, 'sales': 29}],\n",
      "               'region': 'West'},\n",
      "              {'category': 'Technology',\n",
      "               'monthlySales': [{'month': 20130101, 'sales': 54},\n",
      "                                {'month': 20130201, 'sales': 66},\n",
      "                                {'month': 20130301, 'sales': 77},\n",
      "                                {'month': 20130401, 'sales': 70},\n",
      "                                {'month': 20130501, 'sales': 60},\n",
      "                                {'month': 20130601, 'sales': 63},\n",
      "                                {'month': 20130701, 'sales': 55},\n",
      "                                {'month': 20130801, 'sales': 47},\n",
      "                                {'month': 20130901, 'sales': 55},\n",
      "                                {'month': 20131001, 'sales': 30},\n",
      "                                {'month': 20131101, 'sales': 22},\n",
      "                                {'month': 20131201, 'sales': 77}],\n",
      "               'region': 'West'}]}\n"
     ]
    }
   ],
   "source": [
    "# Yo, check this out! We just got our hands on some prime loot. It's like stumbling upon a hidden treasure in the concrete jungle!\n",
    "# Peep this line: `from pprint import pprint as pp`. It's like calling up a tech-savvy sidekick to help us decode the secrets of the stash.\n",
    "# And when we drop `pp(d)`? It's like activating a superpower, unveiling the hidden gems of the dictionary in all their glory.\n",
    "\n",
    "# So, get ready to feast your eyes on the urban dictionary! Hit enter and brace yourself for the magic show!\n",
    "from pprint import pprint as pp\n",
    "pp(d)"
   ]
  },
  {
   "cell_type": "code",
   "execution_count": 5,
   "metadata": {},
   "outputs": [
    {
     "name": "stdout",
     "output_type": "stream",
     "text": [
      "dict_keys(['contents'])\n"
     ]
    }
   ],
   "source": [
    "# Okay, check it out, we're gonna peep into this JSON data and see what's poppin'. Let's roll!\n",
    "print(d.keys())  # This prints out the keys of the JSON dictionary. We're looking for the main categories, ya dig?"
   ]
  },
  {
   "cell_type": "code",
   "execution_count": 8,
   "metadata": {},
   "outputs": [
    {
     "name": "stdout",
     "output_type": "stream",
     "text": [
      "dict_keys(['category', 'region', 'monthlySales'])\n",
      "dict_keys(['category', 'region', 'monthlySales'])\n"
     ]
    }
   ],
   "source": [
    "# Yo, we 'bout to dive into this JSON data, so buckle up!\n",
    "for a in d['contents']:  # We be loopin' through the 'contents' section of the JSON dictionary.\n",
    "    print(a.keys())  # This here prints out the keys of each element in the 'contents' section. Let's see what's poppin'!"
   ]
  },
  {
   "cell_type": "code",
   "execution_count": 9,
   "metadata": {},
   "outputs": [
    {
     "name": "stdout",
     "output_type": "stream",
     "text": [
      "dict_keys(['month', 'sales'])\n",
      "dict_keys(['month', 'sales'])\n",
      "dict_keys(['month', 'sales'])\n",
      "dict_keys(['month', 'sales'])\n",
      "dict_keys(['month', 'sales'])\n",
      "dict_keys(['month', 'sales'])\n",
      "dict_keys(['month', 'sales'])\n",
      "dict_keys(['month', 'sales'])\n",
      "dict_keys(['month', 'sales'])\n",
      "dict_keys(['month', 'sales'])\n",
      "dict_keys(['month', 'sales'])\n",
      "dict_keys(['month', 'sales'])\n",
      "dict_keys(['month', 'sales'])\n",
      "dict_keys(['month', 'sales'])\n",
      "dict_keys(['month', 'sales'])\n",
      "dict_keys(['month', 'sales'])\n",
      "dict_keys(['month', 'sales'])\n",
      "dict_keys(['month', 'sales'])\n",
      "dict_keys(['month', 'sales'])\n",
      "dict_keys(['month', 'sales'])\n",
      "dict_keys(['month', 'sales'])\n",
      "dict_keys(['month', 'sales'])\n",
      "dict_keys(['month', 'sales'])\n",
      "dict_keys(['month', 'sales'])\n"
     ]
    }
   ],
   "source": [
    "# Yo, we're cruising through these JSON vibes with a for loop, hitting up each 'monthlySales' section within the 'contents'.\n",
    "for a in d['contents']:  # Rolling through every element in the 'contents' area.\n",
    "    for b in a['monthlySales']:  # Now, we're zooming into each 'monthlySales' data nugget within.\n",
    "        print(b.keys())  # Peeking inside to see the keys of each 'monthlySales' treasure chest!\n"
   ]
  },
  {
   "cell_type": "code",
   "execution_count": 10,
   "metadata": {
    "scrolled": true
   },
   "outputs": [
    {
     "name": "stdout",
     "output_type": "stream",
     "text": [
      "[{'category': 'Furniture',\n",
      "  'monthlySales': [{'month': 20130101, 'sales': 38},\n",
      "                   {'month': 20130201, 'sales': 35},\n",
      "                   {'month': 20130301, 'sales': 41},\n",
      "                   {'month': 20130401, 'sales': 55},\n",
      "                   {'month': 20130501, 'sales': 58},\n",
      "                   {'month': 20130601, 'sales': 66},\n",
      "                   {'month': 20130701, 'sales': 74},\n",
      "                   {'month': 20130801, 'sales': 78},\n",
      "                   {'month': 20130901, 'sales': 38},\n",
      "                   {'month': 20131001, 'sales': 30},\n",
      "                   {'month': 20131101, 'sales': 26},\n",
      "                   {'month': 20131201, 'sales': 29}],\n",
      "  'region': 'West'},\n",
      " {'category': 'Technology',\n",
      "  'monthlySales': [{'month': 20130101, 'sales': 54},\n",
      "                   {'month': 20130201, 'sales': 66},\n",
      "                   {'month': 20130301, 'sales': 77},\n",
      "                   {'month': 20130401, 'sales': 70},\n",
      "                   {'month': 20130501, 'sales': 60},\n",
      "                   {'month': 20130601, 'sales': 63},\n",
      "                   {'month': 20130701, 'sales': 55},\n",
      "                   {'month': 20130801, 'sales': 47},\n",
      "                   {'month': 20130901, 'sales': 55},\n",
      "                   {'month': 20131001, 'sales': 30},\n",
      "                   {'month': 20131101, 'sales': 22},\n",
      "                   {'month': 20131201, 'sales': 77}],\n",
      "  'region': 'West'}]\n",
      "contents:  None\n"
     ]
    }
   ],
   "source": [
    "# Ah, check this out! We're diving deep into the JSON ocean, using a slick Python loop to navigate through the keys and values.\n",
    "for key, value in d.items():  # Looping through each key-value pair in our JSON dictionary.\n",
    "    print(key + ': ', pp(value))  # Printing out the key along with its corresponding value, all neatly packed!\n"
   ]
  },
  {
   "cell_type": "code",
   "execution_count": 11,
   "metadata": {},
   "outputs": [
    {
     "name": "stdout",
     "output_type": "stream",
     "text": [
      "category:  Furniture\n",
      "region:  West\n",
      "monthlySales:  [{'month': 20130101, 'sales': 38}, {'month': 20130201, 'sales': 35}, {'month': 20130301, 'sales': 41}, {'month': 20130401, 'sales': 55}, {'month': 20130501, 'sales': 58}, {'month': 20130601, 'sales': 66}, {'month': 20130701, 'sales': 74}, {'month': 20130801, 'sales': 78}, {'month': 20130901, 'sales': 38}, {'month': 20131001, 'sales': 30}, {'month': 20131101, 'sales': 26}, {'month': 20131201, 'sales': 29}]\n",
      "category:  Technology\n",
      "region:  West\n",
      "monthlySales:  [{'month': 20130101, 'sales': 54}, {'month': 20130201, 'sales': 66}, {'month': 20130301, 'sales': 77}, {'month': 20130401, 'sales': 70}, {'month': 20130501, 'sales': 60}, {'month': 20130601, 'sales': 63}, {'month': 20130701, 'sales': 55}, {'month': 20130801, 'sales': 47}, {'month': 20130901, 'sales': 55}, {'month': 20131001, 'sales': 30}, {'month': 20131101, 'sales': 22}, {'month': 20131201, 'sales': 77}]\n"
     ]
    }
   ],
   "source": [
    "# Yo, we're diving into the 'contents' of our JSON dictionary, using a double loop to surf through the data waves!\n",
    "for a in d['contents']:  # Looping through each item in the 'contents' list.\n",
    "    for key, value in a.items():  # Now we're cruising through each key-value pair in the current item.\n",
    "        print(key + ': ', value)  # Riding the waves, printing out the key along with its corresponding value!\n"
   ]
  },
  {
   "cell_type": "code",
   "execution_count": 12,
   "metadata": {},
   "outputs": [
    {
     "name": "stdout",
     "output_type": "stream",
     "text": [
      "month:  20130101\n",
      "sales:  38\n",
      "month:  20130201\n",
      "sales:  35\n",
      "month:  20130301\n",
      "sales:  41\n",
      "month:  20130401\n",
      "sales:  55\n",
      "month:  20130501\n",
      "sales:  58\n",
      "month:  20130601\n",
      "sales:  66\n",
      "month:  20130701\n",
      "sales:  74\n",
      "month:  20130801\n",
      "sales:  78\n",
      "month:  20130901\n",
      "sales:  38\n",
      "month:  20131001\n",
      "sales:  30\n",
      "month:  20131101\n",
      "sales:  26\n",
      "month:  20131201\n",
      "sales:  29\n",
      "month:  20130101\n",
      "sales:  54\n",
      "month:  20130201\n",
      "sales:  66\n",
      "month:  20130301\n",
      "sales:  77\n",
      "month:  20130401\n",
      "sales:  70\n",
      "month:  20130501\n",
      "sales:  60\n",
      "month:  20130601\n",
      "sales:  63\n",
      "month:  20130701\n",
      "sales:  55\n",
      "month:  20130801\n",
      "sales:  47\n",
      "month:  20130901\n",
      "sales:  55\n",
      "month:  20131001\n",
      "sales:  30\n",
      "month:  20131101\n",
      "sales:  22\n",
      "month:  20131201\n",
      "sales:  77\n"
     ]
    }
   ],
   "source": [
    "# Alright, we're plunging into the 'contents' of our JSON dictionary, taking a deep dive into the 'monthlySales' data!\n",
    "for a in d['contents']:  # Looping through each item in the 'contents' list.\n",
    "    for b in a['monthlySales']:  # Now we're navigating through each 'monthlySales' entry in the current item.\n",
    "        for key, value in b.items():  # As we descend further, we're exploring each key-value pair in the 'monthlySales'.\n",
    "            print(key + \": \", value)  # With every wave, we're printing out the key along with its corresponding value!\n"
   ]
  },
  {
   "cell_type": "code",
   "execution_count": null,
   "metadata": {
    "collapsed": true,
    "jupyter": {
     "outputs_hidden": true
    }
   },
   "outputs": [],
   "source": []
  }
 ],
 "metadata": {
  "kernelspec": {
   "display_name": "Python 3 (ipykernel)",
   "language": "python",
   "name": "python3"
  },
  "language_info": {
   "codemirror_mode": {
    "name": "ipython",
    "version": 3
   },
   "file_extension": ".py",
   "mimetype": "text/x-python",
   "name": "python",
   "nbconvert_exporter": "python",
   "pygments_lexer": "ipython3",
   "version": "3.12.1"
  }
 },
 "nbformat": 4,
 "nbformat_minor": 4
}

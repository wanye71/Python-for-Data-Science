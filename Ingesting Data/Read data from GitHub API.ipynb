{
 "cells": [
  {
   "cell_type": "code",
   "execution_count": 20,
   "metadata": {
    "collapsed": true,
    "jupyter": {
     "outputs_hidden": true
    }
   },
   "outputs": [],
   "source": [
    "import requests\n",
    "import base64\n",
    "response = requests.get('https://api.github.com/repos/bsullins/data/contents/monthlySalesbyCategoryMultiple.json')"
   ]
  },
  {
   "cell_type": "code",
   "execution_count": 21,
   "metadata": {
    "collapsed": true,
    "jupyter": {
     "outputs_hidden": true
    }
   },
   "outputs": [],
   "source": [
    "import json\n",
    "resp_json = json.loads(response.text)"
   ]
  },
  {
   "cell_type": "code",
   "execution_count": 24,
   "metadata": {
    "collapsed": true,
    "jupyter": {
     "outputs_hidden": true
    }
   },
   "outputs": [],
   "source": [
    "content_str = content_bytes.decode('utf-8')"
   ]
  },
  {
   "cell_type": "code",
   "execution_count": 25,
   "metadata": {
    "collapsed": true,
    "jupyter": {
     "outputs_hidden": true
    }
   },
   "outputs": [],
   "source": [
    "val = json.loads(content_str)"
   ]
  },
  {
   "cell_type": "code",
   "execution_count": 27,
   "metadata": {
    "collapsed": true,
    "jupyter": {
     "outputs_hidden": true
    }
   },
   "outputs": [
    {
     "name": "stdout",
     "output_type": "stream",
     "text": [
      "{'contents': [{'category': 'Furniture',\n",
      "               'monthlySales': [{'month': 20130101, 'sales': 38},\n",
      "                                {'month': 20130201, 'sales': 35},\n",
      "                                {'month': 20130301, 'sales': 41},\n",
      "                                {'month': 20130401, 'sales': 55},\n",
      "                                {'month': 20130501, 'sales': 58},\n",
      "                                {'month': 20130601, 'sales': 66},\n",
      "                                {'month': 20130701, 'sales': 74},\n",
      "                                {'month': 20130801, 'sales': 78},\n",
      "                                {'month': 20130901, 'sales': 38},\n",
      "                                {'month': 20131001, 'sales': 30},\n",
      "                                {'month': 20131101, 'sales': 26},\n",
      "                                {'month': 20131201, 'sales': 29}],\n",
      "               'region': 'West'},\n",
      "              {'category': 'Technology',\n",
      "               'monthlySales': [{'month': 20130101, 'sales': 54},\n",
      "                                {'month': 20130201, 'sales': 66},\n",
      "                                {'month': 20130301, 'sales': 77},\n",
      "                                {'month': 20130401, 'sales': 70},\n",
      "                                {'month': 20130501, 'sales': 60},\n",
      "                                {'month': 20130601, 'sales': 63},\n",
      "                                {'month': 20130701, 'sales': 55},\n",
      "                                {'month': 20130801, 'sales': 47},\n",
      "                                {'month': 20130901, 'sales': 55},\n",
      "                                {'month': 20131001, 'sales': 30},\n",
      "                                {'month': 20131101, 'sales': 22},\n",
      "                                {'month': 20131201, 'sales': 77}],\n",
      "               'region': 'West'}]}\n"
     ]
    }
   ],
   "source": [
    "from pprint import pprint as pp\n",
    "pp(val)"
   ]
  },
  {
   "cell_type": "code",
   "execution_count": 29,
   "metadata": {
    "collapsed": true,
    "jupyter": {
     "outputs_hidden": true
    }
   },
   "outputs": [
    {
     "name": "stdout",
     "output_type": "stream",
     "text": [
      "month:  20130101\n",
      "sales:  38\n",
      "month:  20130201\n",
      "sales:  35\n",
      "month:  20130301\n",
      "sales:  41\n",
      "month:  20130401\n",
      "sales:  55\n",
      "month:  20130501\n",
      "sales:  58\n",
      "month:  20130601\n",
      "sales:  66\n",
      "month:  20130701\n",
      "sales:  74\n",
      "month:  20130801\n",
      "sales:  78\n",
      "month:  20130901\n",
      "sales:  38\n",
      "month:  20131001\n",
      "sales:  30\n",
      "month:  20131101\n",
      "sales:  26\n",
      "month:  20131201\n",
      "sales:  29\n",
      "month:  20130101\n",
      "sales:  54\n",
      "month:  20130201\n",
      "sales:  66\n",
      "month:  20130301\n",
      "sales:  77\n",
      "month:  20130401\n",
      "sales:  70\n",
      "month:  20130501\n",
      "sales:  60\n",
      "month:  20130601\n",
      "sales:  63\n",
      "month:  20130701\n",
      "sales:  55\n",
      "month:  20130801\n",
      "sales:  47\n",
      "month:  20130901\n",
      "sales:  55\n",
      "month:  20131001\n",
      "sales:  30\n",
      "month:  20131101\n",
      "sales:  22\n",
      "month:  20131201\n",
      "sales:  77\n"
     ]
    }
   ],
   "source": [
    "# print the keys and values at the third level\n",
    "for a in val['contents']:\n",
    "    for b in a['monthlySales']:\n",
    "        for key, value in b.items():\n",
    "            print(key + \": \", value)"
   ]
  },
  {
   "cell_type": "code",
   "execution_count": 30,
   "metadata": {
    "collapsed": true,
    "jupyter": {
     "outputs_hidden": true
    }
   },
   "outputs": [],
   "source": [
    "response = requests.get('https://api.github.com/repos/bsullins/data/contents/MonthlySales.csv')"
   ]
  },
  {
   "cell_type": "code",
   "execution_count": 31,
   "metadata": {
    "collapsed": true,
    "jupyter": {
     "outputs_hidden": true
    }
   },
   "outputs": [],
   "source": [
    "response_json = json.loads(response.text)"
   ]
  },
  {
   "cell_type": "code",
   "execution_count": 33,
   "metadata": {},
   "outputs": [],
   "source": [
    "content_base64 = response_json['content']"
   ]
  },
  {
   "cell_type": "code",
   "execution_count": 34,
   "metadata": {},
   "outputs": [],
   "source": [
    "content_bytes = base64.b64decode(content_base64)"
   ]
  },
  {
   "cell_type": "code",
   "execution_count": 35,
   "metadata": {},
   "outputs": [],
   "source": [
    "csv_content = content_bytes.decode('utf-8')"
   ]
  },
  {
   "cell_type": "code",
   "execution_count": 37,
   "metadata": {},
   "outputs": [],
   "source": [
    "import csv\n",
    "import io\n",
    "\n",
    "# Assuming csv_content is the decoded CSV content string\n",
    "csv_io = io.StringIO(csv_content)  # Use io.StringIO() to handle strings\n",
    "\n",
    "# Use csv.DictReader to read the CSV content as dictionaries\n",
    "csv_dict = csv.DictReader(csv_io)\n",
    "\n",
    "# Convert the DictReader object to a list of dictionaries\n",
    "dict_list = list(csv_dict)"
   ]
  },
  {
   "cell_type": "code",
   "execution_count": 38,
   "metadata": {
    "collapsed": true,
    "jupyter": {
     "outputs_hidden": true
    }
   },
   "outputs": [
    {
     "name": "stdout",
     "output_type": "stream",
     "text": [
      "{'month': '2013-01-01', 'sales': '14236.9'}\n",
      "{'month': '2013-02-01', 'sales': '4519.89'}\n",
      "{'month': '2013-03-01', 'sales': '55691.01'}\n",
      "{'month': '2013-04-01', 'sales': '28295.35'}\n",
      "{'month': '2013-05-01', 'sales': '23648.29'}\n",
      "{'month': '2013-06-01', 'sales': '34595.13'}\n",
      "{'month': '2013-07-01', 'sales': '33946.39'}\n",
      "{'month': '2013-08-01', 'sales': '27909.47'}\n",
      "{'month': '2013-09-01', 'sales': '81777.35'}\n",
      "{'month': '2013-10-01', 'sales': '31453.39'}\n",
      "{'month': '2013-11-01', 'sales': '78628.72'}\n",
      "{'month': '2013-12-01', 'sales': '69545.62'}\n",
      "{'month': '2014-01-01', 'sales': '18174.08'}\n",
      "{'month': '2014-02-01', 'sales': '11951.41'}\n",
      "{'month': '2014-03-01', 'sales': '38726.25'}\n",
      "{'month': '2014-04-01', 'sales': '34195.21'}\n",
      "{'month': '2014-05-01', 'sales': '30131.69'}\n",
      "{'month': '2014-06-01', 'sales': '24797.29'}\n",
      "{'month': '2014-07-01', 'sales': '28765.33'}\n",
      "{'month': '2014-08-01', 'sales': '36898.33'}\n",
      "{'month': '2014-09-01', 'sales': '64595.92'}\n",
      "{'month': '2014-10-01', 'sales': '31404.92'}\n",
      "{'month': '2014-11-01', 'sales': '75972.56'}\n",
      "{'month': '2014-12-01', 'sales': '74919.52'}\n",
      "{'month': '2015-01-01', 'sales': '18542.49'}\n",
      "{'month': '2015-02-01', 'sales': '22867.71'}\n",
      "{'month': '2015-03-01', 'sales': '51186.22'}\n",
      "{'month': '2015-04-01', 'sales': '39248.59'}\n",
      "{'month': '2015-05-01', 'sales': '56691.08'}\n",
      "{'month': '2015-06-01', 'sales': '39430.44'}\n",
      "{'month': '2015-07-01', 'sales': '38440.76'}\n",
      "{'month': '2015-08-01', 'sales': '33265.56'}\n",
      "{'month': '2015-09-01', 'sales': '72908.11'}\n",
      "{'month': '2015-10-01', 'sales': '56463.13'}\n",
      "{'month': '2015-11-01', 'sales': '82192.32'}\n",
      "{'month': '2015-12-01', 'sales': '97237.42'}\n",
      "{'month': '2016-01-01', 'sales': '44703.14'}\n",
      "{'month': '2016-02-01', 'sales': '20301.13'}\n",
      "{'month': '2016-03-01', 'sales': '58872.35'}\n",
      "{'month': '2016-04-01', 'sales': '36521.54'}\n",
      "{'month': '2016-05-01', 'sales': '44261.11'}\n",
      "{'month': '2016-06-01', 'sales': '52981.73'}\n",
      "{'month': '2016-07-01', 'sales': '45264.42'}\n",
      "{'month': '2016-08-01', 'sales': '63120.89'}\n",
      "{'month': '2016-09-01', 'sales': '87866.65'}\n",
      "{'month': '2016-10-01', 'sales': '77776.92'}\n",
      "{'month': '2016-11-01', 'sales': '118447.83'}\n",
      "{'month': '2016-12-01', 'sales': '83829.32'}\n"
     ]
    }
   ],
   "source": [
    "for a in dict_list:\n",
    "    print(a)"
   ]
  },
  {
   "cell_type": "code",
   "execution_count": 41,
   "metadata": {
    "collapsed": true,
    "jupyter": {
     "outputs_hidden": true
    }
   },
   "outputs": [
    {
     "name": "stdout",
     "output_type": "stream",
     "text": [
      "month:  2013-01-01\n",
      "sales:  14236.9\n",
      "\n",
      "\n",
      "month:  2013-02-01\n",
      "sales:  4519.89\n",
      "\n",
      "\n",
      "month:  2013-03-01\n",
      "sales:  55691.01\n",
      "\n",
      "\n",
      "month:  2013-04-01\n",
      "sales:  28295.35\n",
      "\n",
      "\n",
      "month:  2013-05-01\n",
      "sales:  23648.29\n",
      "\n",
      "\n",
      "month:  2013-06-01\n",
      "sales:  34595.13\n",
      "\n",
      "\n",
      "month:  2013-07-01\n",
      "sales:  33946.39\n",
      "\n",
      "\n",
      "month:  2013-08-01\n",
      "sales:  27909.47\n",
      "\n",
      "\n",
      "month:  2013-09-01\n",
      "sales:  81777.35\n",
      "\n",
      "\n",
      "month:  2013-10-01\n",
      "sales:  31453.39\n",
      "\n",
      "\n",
      "month:  2013-11-01\n",
      "sales:  78628.72\n",
      "\n",
      "\n",
      "month:  2013-12-01\n",
      "sales:  69545.62\n",
      "\n",
      "\n",
      "month:  2014-01-01\n",
      "sales:  18174.08\n",
      "\n",
      "\n",
      "month:  2014-02-01\n",
      "sales:  11951.41\n",
      "\n",
      "\n",
      "month:  2014-03-01\n",
      "sales:  38726.25\n",
      "\n",
      "\n",
      "month:  2014-04-01\n",
      "sales:  34195.21\n",
      "\n",
      "\n",
      "month:  2014-05-01\n",
      "sales:  30131.69\n",
      "\n",
      "\n",
      "month:  2014-06-01\n",
      "sales:  24797.29\n",
      "\n",
      "\n",
      "month:  2014-07-01\n",
      "sales:  28765.33\n",
      "\n",
      "\n",
      "month:  2014-08-01\n",
      "sales:  36898.33\n",
      "\n",
      "\n",
      "month:  2014-09-01\n",
      "sales:  64595.92\n",
      "\n",
      "\n",
      "month:  2014-10-01\n",
      "sales:  31404.92\n",
      "\n",
      "\n",
      "month:  2014-11-01\n",
      "sales:  75972.56\n",
      "\n",
      "\n",
      "month:  2014-12-01\n",
      "sales:  74919.52\n",
      "\n",
      "\n",
      "month:  2015-01-01\n",
      "sales:  18542.49\n",
      "\n",
      "\n",
      "month:  2015-02-01\n",
      "sales:  22867.71\n",
      "\n",
      "\n",
      "month:  2015-03-01\n",
      "sales:  51186.22\n",
      "\n",
      "\n",
      "month:  2015-04-01\n",
      "sales:  39248.59\n",
      "\n",
      "\n",
      "month:  2015-05-01\n",
      "sales:  56691.08\n",
      "\n",
      "\n",
      "month:  2015-06-01\n",
      "sales:  39430.44\n",
      "\n",
      "\n",
      "month:  2015-07-01\n",
      "sales:  38440.76\n",
      "\n",
      "\n",
      "month:  2015-08-01\n",
      "sales:  33265.56\n",
      "\n",
      "\n",
      "month:  2015-09-01\n",
      "sales:  72908.11\n",
      "\n",
      "\n",
      "month:  2015-10-01\n",
      "sales:  56463.13\n",
      "\n",
      "\n",
      "month:  2015-11-01\n",
      "sales:  82192.32\n",
      "\n",
      "\n",
      "month:  2015-12-01\n",
      "sales:  97237.42\n",
      "\n",
      "\n",
      "month:  2016-01-01\n",
      "sales:  44703.14\n",
      "\n",
      "\n",
      "month:  2016-02-01\n",
      "sales:  20301.13\n",
      "\n",
      "\n",
      "month:  2016-03-01\n",
      "sales:  58872.35\n",
      "\n",
      "\n",
      "month:  2016-04-01\n",
      "sales:  36521.54\n",
      "\n",
      "\n",
      "month:  2016-05-01\n",
      "sales:  44261.11\n",
      "\n",
      "\n",
      "month:  2016-06-01\n",
      "sales:  52981.73\n",
      "\n",
      "\n",
      "month:  2016-07-01\n",
      "sales:  45264.42\n",
      "\n",
      "\n",
      "month:  2016-08-01\n",
      "sales:  63120.89\n",
      "\n",
      "\n",
      "month:  2016-09-01\n",
      "sales:  87866.65\n",
      "\n",
      "\n",
      "month:  2016-10-01\n",
      "sales:  77776.92\n",
      "\n",
      "\n",
      "month:  2016-11-01\n",
      "sales:  118447.83\n",
      "\n",
      "\n",
      "month:  2016-12-01\n",
      "sales:  83829.32\n",
      "\n",
      "\n"
     ]
    }
   ],
   "source": [
    "#print keys and values\n",
    "for a in dict_list:\n",
    "    for key, value in a.items():\n",
    "        print(key + \": \", value)\n",
    "    print('\\n')"
   ]
  },
  {
   "cell_type": "code",
   "execution_count": null,
   "metadata": {
    "collapsed": true,
    "jupyter": {
     "outputs_hidden": true
    }
   },
   "outputs": [],
   "source": []
  }
 ],
 "metadata": {
  "kernelspec": {
   "display_name": "Python 3 (ipykernel)",
   "language": "python",
   "name": "python3"
  },
  "language_info": {
   "codemirror_mode": {
    "name": "ipython",
    "version": 3
   },
   "file_extension": ".py",
   "mimetype": "text/x-python",
   "name": "python",
   "nbconvert_exporter": "python",
   "pygments_lexer": "ipython3",
   "version": "3.12.1"
  }
 },
 "nbformat": 4,
 "nbformat_minor": 4
}

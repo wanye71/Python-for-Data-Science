{
 "cells": [
  {
   "cell_type": "code",
   "execution_count": 50,
   "metadata": {},
   "outputs": [],
   "source": [
    "import requests\n",
    "import base64\n",
    "response = requests.get('https://api.github.com/repos/bsullins/data/contents/monthlySalesbyCategoryMultiple.json')"
   ]
  },
  {
   "cell_type": "code",
   "execution_count": 61,
   "metadata": {},
   "outputs": [],
   "source": [
    "# Welcome to our cozy coding home! Let's infuse some homey vibes into this code snippet:\n",
    "\n",
    "# The 'import json' line brings in the json module, a trusted tool in our coding toolbox.\n",
    "# It's like inviting a seasoned explorer to join us on our quest, ready to decipher the mysteries of the digital world.\n",
    "import json\n",
    "\n",
    "# Step into our coding sanctuary, where each line of code is a step closer to uncovering hidden treasures.\n",
    "\n",
    "# Now, with the scroll safely in our possession, it's time to unravel its secrets.\n",
    "# Like excited homeowners opening a long-awaited package, we eagerly decode the contents of the scroll.\n",
    "resp_json = json.loads(response.text)"
   ]
  },
  {
   "cell_type": "code",
   "execution_count": 62,
   "metadata": {},
   "outputs": [
    {
     "ename": "TypeError",
     "evalue": "byte indices must be integers or slices, not str",
     "output_type": "error",
     "traceback": [
      "\u001b[1;31m---------------------------------------------------------------------------\u001b[0m",
      "\u001b[1;31mTypeError\u001b[0m                                 Traceback (most recent call last)",
      "Cell \u001b[1;32mIn[62], line 1\u001b[0m\n\u001b[1;32m----> 1\u001b[0m content_str \u001b[38;5;241m=\u001b[39m \u001b[43mcontent_bytes\u001b[49m\u001b[43m[\u001b[49m\u001b[38;5;124;43m'\u001b[39;49m\u001b[38;5;124;43mcontents\u001b[39;49m\u001b[38;5;124;43m'\u001b[39;49m\u001b[43m]\u001b[49m\u001b[38;5;241m.\u001b[39mdecode(\u001b[38;5;124m'\u001b[39m\u001b[38;5;124mutf-8\u001b[39m\u001b[38;5;124m'\u001b[39m)\n",
      "\u001b[1;31mTypeError\u001b[0m: byte indices must be integers or slices, not str"
     ]
    }
   ],
   "source": [
    "content_str = content_bytes['contents'].decode('utf-8')"
   ]
  },
  {
   "cell_type": "code",
   "execution_count": 59,
   "metadata": {},
   "outputs": [
    {
     "ename": "TypeError",
     "evalue": "the JSON object must be str, bytes or bytearray, not dict",
     "output_type": "error",
     "traceback": [
      "\u001b[1;31m---------------------------------------------------------------------------\u001b[0m",
      "\u001b[1;31mTypeError\u001b[0m                                 Traceback (most recent call last)",
      "Cell \u001b[1;32mIn[59], line 1\u001b[0m\n\u001b[1;32m----> 1\u001b[0m val \u001b[38;5;241m=\u001b[39m \u001b[43mjson\u001b[49m\u001b[38;5;241;43m.\u001b[39;49m\u001b[43mloads\u001b[49m\u001b[43m(\u001b[49m\u001b[43mresp_json\u001b[49m\u001b[43m)\u001b[49m\n",
      "File \u001b[1;32m~\\AppData\\Local\\Programs\\Python\\Python312\\Lib\\json\\__init__.py:339\u001b[0m, in \u001b[0;36mloads\u001b[1;34m(s, cls, object_hook, parse_float, parse_int, parse_constant, object_pairs_hook, **kw)\u001b[0m\n\u001b[0;32m    337\u001b[0m \u001b[38;5;28;01melse\u001b[39;00m:\n\u001b[0;32m    338\u001b[0m     \u001b[38;5;28;01mif\u001b[39;00m \u001b[38;5;129;01mnot\u001b[39;00m \u001b[38;5;28misinstance\u001b[39m(s, (\u001b[38;5;28mbytes\u001b[39m, \u001b[38;5;28mbytearray\u001b[39m)):\n\u001b[1;32m--> 339\u001b[0m         \u001b[38;5;28;01mraise\u001b[39;00m \u001b[38;5;167;01mTypeError\u001b[39;00m(\u001b[38;5;124mf\u001b[39m\u001b[38;5;124m'\u001b[39m\u001b[38;5;124mthe JSON object must be str, bytes or bytearray, \u001b[39m\u001b[38;5;124m'\u001b[39m\n\u001b[0;32m    340\u001b[0m                         \u001b[38;5;124mf\u001b[39m\u001b[38;5;124m'\u001b[39m\u001b[38;5;124mnot \u001b[39m\u001b[38;5;132;01m{\u001b[39;00ms\u001b[38;5;241m.\u001b[39m\u001b[38;5;18m__class__\u001b[39m\u001b[38;5;241m.\u001b[39m\u001b[38;5;18m__name__\u001b[39m\u001b[38;5;132;01m}\u001b[39;00m\u001b[38;5;124m'\u001b[39m)\n\u001b[0;32m    341\u001b[0m     s \u001b[38;5;241m=\u001b[39m s\u001b[38;5;241m.\u001b[39mdecode(detect_encoding(s), \u001b[38;5;124m'\u001b[39m\u001b[38;5;124msurrogatepass\u001b[39m\u001b[38;5;124m'\u001b[39m)\n\u001b[0;32m    343\u001b[0m \u001b[38;5;28;01mif\u001b[39;00m (\u001b[38;5;28mcls\u001b[39m \u001b[38;5;129;01mis\u001b[39;00m \u001b[38;5;28;01mNone\u001b[39;00m \u001b[38;5;129;01mand\u001b[39;00m object_hook \u001b[38;5;129;01mis\u001b[39;00m \u001b[38;5;28;01mNone\u001b[39;00m \u001b[38;5;129;01mand\u001b[39;00m\n\u001b[0;32m    344\u001b[0m         parse_int \u001b[38;5;129;01mis\u001b[39;00m \u001b[38;5;28;01mNone\u001b[39;00m \u001b[38;5;129;01mand\u001b[39;00m parse_float \u001b[38;5;129;01mis\u001b[39;00m \u001b[38;5;28;01mNone\u001b[39;00m \u001b[38;5;129;01mand\u001b[39;00m\n\u001b[0;32m    345\u001b[0m         parse_constant \u001b[38;5;129;01mis\u001b[39;00m \u001b[38;5;28;01mNone\u001b[39;00m \u001b[38;5;129;01mand\u001b[39;00m object_pairs_hook \u001b[38;5;129;01mis\u001b[39;00m \u001b[38;5;28;01mNone\u001b[39;00m \u001b[38;5;129;01mand\u001b[39;00m \u001b[38;5;129;01mnot\u001b[39;00m kw):\n",
      "\u001b[1;31mTypeError\u001b[0m: the JSON object must be str, bytes or bytearray, not dict"
     ]
    }
   ],
   "source": [
    "val = json.loads(content_str)"
   ]
  },
  {
   "cell_type": "code",
   "execution_count": null,
   "metadata": {},
   "outputs": [],
   "source": [
    "from pprint import pprint as pp\n",
    "pp(val)"
   ]
  },
  {
   "cell_type": "code",
   "execution_count": null,
   "metadata": {},
   "outputs": [],
   "source": [
    "# print the keys and values at the third level\n",
    "for a in val['contents']:\n",
    "    for b in a['monthlySales']:\n",
    "        for key, value in b.items():\n",
    "            print(key + \": \", value)"
   ]
  },
  {
   "cell_type": "code",
   "execution_count": null,
   "metadata": {},
   "outputs": [],
   "source": [
    "response = requests.get('https://api.github.com/repos/bsullins/data/contents/MonthlySales.csv')"
   ]
  },
  {
   "cell_type": "code",
   "execution_count": null,
   "metadata": {},
   "outputs": [],
   "source": [
    "response_json = json.loads(response.text)"
   ]
  },
  {
   "cell_type": "code",
   "execution_count": null,
   "metadata": {},
   "outputs": [],
   "source": [
    "content_base64 = response_json['content']"
   ]
  },
  {
   "cell_type": "code",
   "execution_count": null,
   "metadata": {},
   "outputs": [],
   "source": [
    "content_bytes = base64.b64decode(content_base64)"
   ]
  },
  {
   "cell_type": "code",
   "execution_count": null,
   "metadata": {},
   "outputs": [],
   "source": [
    "csv_content = content_bytes.decode('utf-8')"
   ]
  },
  {
   "cell_type": "code",
   "execution_count": null,
   "metadata": {},
   "outputs": [],
   "source": [
    "import csv\n",
    "import io\n",
    "\n",
    "# Assuming csv_content is the decoded CSV content string\n",
    "csv_io = io.StringIO(csv_content)  # Use io.StringIO() to handle strings\n",
    "\n",
    "# Use csv.DictReader to read the CSV content as dictionaries\n",
    "csv_dict = csv.DictReader(csv_io)\n",
    "\n",
    "# Convert the DictReader object to a list of dictionaries\n",
    "dict_list = list(csv_dict)"
   ]
  },
  {
   "cell_type": "code",
   "execution_count": null,
   "metadata": {},
   "outputs": [],
   "source": [
    "for a in dict_list:\n",
    "    print(a)"
   ]
  },
  {
   "cell_type": "code",
   "execution_count": 41,
   "metadata": {
    "collapsed": true,
    "jupyter": {
     "outputs_hidden": true
    }
   },
   "outputs": [
    {
     "name": "stdout",
     "output_type": "stream",
     "text": [
      "month:  2013-01-01\n",
      "sales:  14236.9\n",
      "\n",
      "\n",
      "month:  2013-02-01\n",
      "sales:  4519.89\n",
      "\n",
      "\n",
      "month:  2013-03-01\n",
      "sales:  55691.01\n",
      "\n",
      "\n",
      "month:  2013-04-01\n",
      "sales:  28295.35\n",
      "\n",
      "\n",
      "month:  2013-05-01\n",
      "sales:  23648.29\n",
      "\n",
      "\n",
      "month:  2013-06-01\n",
      "sales:  34595.13\n",
      "\n",
      "\n",
      "month:  2013-07-01\n",
      "sales:  33946.39\n",
      "\n",
      "\n",
      "month:  2013-08-01\n",
      "sales:  27909.47\n",
      "\n",
      "\n",
      "month:  2013-09-01\n",
      "sales:  81777.35\n",
      "\n",
      "\n",
      "month:  2013-10-01\n",
      "sales:  31453.39\n",
      "\n",
      "\n",
      "month:  2013-11-01\n",
      "sales:  78628.72\n",
      "\n",
      "\n",
      "month:  2013-12-01\n",
      "sales:  69545.62\n",
      "\n",
      "\n",
      "month:  2014-01-01\n",
      "sales:  18174.08\n",
      "\n",
      "\n",
      "month:  2014-02-01\n",
      "sales:  11951.41\n",
      "\n",
      "\n",
      "month:  2014-03-01\n",
      "sales:  38726.25\n",
      "\n",
      "\n",
      "month:  2014-04-01\n",
      "sales:  34195.21\n",
      "\n",
      "\n",
      "month:  2014-05-01\n",
      "sales:  30131.69\n",
      "\n",
      "\n",
      "month:  2014-06-01\n",
      "sales:  24797.29\n",
      "\n",
      "\n",
      "month:  2014-07-01\n",
      "sales:  28765.33\n",
      "\n",
      "\n",
      "month:  2014-08-01\n",
      "sales:  36898.33\n",
      "\n",
      "\n",
      "month:  2014-09-01\n",
      "sales:  64595.92\n",
      "\n",
      "\n",
      "month:  2014-10-01\n",
      "sales:  31404.92\n",
      "\n",
      "\n",
      "month:  2014-11-01\n",
      "sales:  75972.56\n",
      "\n",
      "\n",
      "month:  2014-12-01\n",
      "sales:  74919.52\n",
      "\n",
      "\n",
      "month:  2015-01-01\n",
      "sales:  18542.49\n",
      "\n",
      "\n",
      "month:  2015-02-01\n",
      "sales:  22867.71\n",
      "\n",
      "\n",
      "month:  2015-03-01\n",
      "sales:  51186.22\n",
      "\n",
      "\n",
      "month:  2015-04-01\n",
      "sales:  39248.59\n",
      "\n",
      "\n",
      "month:  2015-05-01\n",
      "sales:  56691.08\n",
      "\n",
      "\n",
      "month:  2015-06-01\n",
      "sales:  39430.44\n",
      "\n",
      "\n",
      "month:  2015-07-01\n",
      "sales:  38440.76\n",
      "\n",
      "\n",
      "month:  2015-08-01\n",
      "sales:  33265.56\n",
      "\n",
      "\n",
      "month:  2015-09-01\n",
      "sales:  72908.11\n",
      "\n",
      "\n",
      "month:  2015-10-01\n",
      "sales:  56463.13\n",
      "\n",
      "\n",
      "month:  2015-11-01\n",
      "sales:  82192.32\n",
      "\n",
      "\n",
      "month:  2015-12-01\n",
      "sales:  97237.42\n",
      "\n",
      "\n",
      "month:  2016-01-01\n",
      "sales:  44703.14\n",
      "\n",
      "\n",
      "month:  2016-02-01\n",
      "sales:  20301.13\n",
      "\n",
      "\n",
      "month:  2016-03-01\n",
      "sales:  58872.35\n",
      "\n",
      "\n",
      "month:  2016-04-01\n",
      "sales:  36521.54\n",
      "\n",
      "\n",
      "month:  2016-05-01\n",
      "sales:  44261.11\n",
      "\n",
      "\n",
      "month:  2016-06-01\n",
      "sales:  52981.73\n",
      "\n",
      "\n",
      "month:  2016-07-01\n",
      "sales:  45264.42\n",
      "\n",
      "\n",
      "month:  2016-08-01\n",
      "sales:  63120.89\n",
      "\n",
      "\n",
      "month:  2016-09-01\n",
      "sales:  87866.65\n",
      "\n",
      "\n",
      "month:  2016-10-01\n",
      "sales:  77776.92\n",
      "\n",
      "\n",
      "month:  2016-11-01\n",
      "sales:  118447.83\n",
      "\n",
      "\n",
      "month:  2016-12-01\n",
      "sales:  83829.32\n",
      "\n",
      "\n"
     ]
    }
   ],
   "source": [
    "#print keys and values\n",
    "for a in dict_list:\n",
    "    for key, value in a.items():\n",
    "        print(key + \": \", value)\n",
    "    print('\\n')"
   ]
  },
  {
   "cell_type": "code",
   "execution_count": null,
   "metadata": {
    "collapsed": true,
    "jupyter": {
     "outputs_hidden": true
    }
   },
   "outputs": [],
   "source": []
  }
 ],
 "metadata": {
  "kernelspec": {
   "display_name": "Python 3 (ipykernel)",
   "language": "python",
   "name": "python3"
  },
  "language_info": {
   "codemirror_mode": {
    "name": "ipython",
    "version": 3
   },
   "file_extension": ".py",
   "mimetype": "text/x-python",
   "name": "python",
   "nbconvert_exporter": "python",
   "pygments_lexer": "ipython3",
   "version": "3.12.1"
  }
 },
 "nbformat": 4,
 "nbformat_minor": 4
}

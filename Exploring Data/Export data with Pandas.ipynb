{
 "cells": [
  {
   "cell_type": "code",
   "execution_count": 39,
   "metadata": {},
   "outputs": [],
   "source": [
    "# Aight, listen up fam! We're about to jet set into the coding world like VIPs on a world tour!\n",
    "\n",
    "# First stop: we're gearing up by importing the pandas library.\n",
    "\n",
    "# pandas is like our passport to the data kingdom, guiding us through the twists and turns of data manipulation.\n",
    "import pandas as pd  "
   ]
  },
  {
   "cell_type": "code",
   "execution_count": 40,
   "metadata": {},
   "outputs": [],
   "source": [
    "# Now that we've got our gear sorted, it's time to hit the road and explore the code landscape!\n",
    "\n",
    "# Step 1: Read in the CSV file to kickstart our adventure.\n",
    "# We're using the 'pd.read_csv' function to load up our data. Think of it like opening a treasure chest full of data gems!\n",
    "# The 'pd' part is like our tour guide, leading the way with pandas magic.\n",
    "# The 'read_csv' function does exactly what it says on the tin - it reads in CSV files and turns them into DataFrame treasures.\n",
    "\n",
    "# Buckle up, folks, 'cause we're about to embark on a data safari!\n",
    "df = pd.read_csv('../MonthlyProductSales2.csv')  \n",
    "\n",
    "# And there you have it! We've set the stage, packed our bags, and we're ready to hit the open road of code exploration.\n",
    "# So grab your snacks, put on your coding shades, and let's rock and roll!\n"
   ]
  },
  {
   "cell_type": "code",
   "execution_count": 54,
   "metadata": {},
   "outputs": [],
   "source": [
    "# Extract Year from 'Month of Order Date'\n",
    "\n",
    "# This line creates a new column named 'Year' in the DataFrame 'df'\n",
    "df['Year'] = df['Month of Order Date'].str[:4]\n",
    "\n",
    "# Explanation:\n",
    "#   - We use string manipulation techniques from the `str` accessor on the 'Month of Order Date' column.\n",
    "#   - `[:4]` extracts the first four characters (assuming YYYY-MM-DD format, this captures the year).\n",
    "#   - The result is assigned to the new 'Year' column.\n",
    "\n",
    "# Group Data by Year and Product, Calculate Quantity Sum\n",
    "\n",
    "# This line performs data analysis and creates a new DataFrame named 'df_export'\n",
    "df_export = df.groupby(['Year', 'Product Name']).sum().reset_index()\n",
    "\n",
    "# Explanation:\n",
    "#   - We use `groupby` to group data in 'df' by two columns:\n",
    "#     - 'Year' (extracted in the previous step) categorizes orders by year.\n",
    "#     - 'Product Name' (likely existing) categorizes orders by product.\n",
    "#   - Grouping allows analysis of sales performance for each product in each year.\n",
    "#   - `.sum()` calculates the total quantity sold for each unique year-product combination.\n",
    "#   - `.reset_index()` converts group labels ('Year' and 'Product Name') back into regular columns \n",
    "#     in 'df_export' for easier interpretation.\n",
    "\n",
    "# Potential Further Processing (Function Call)\n",
    "\n",
    "# This line attempts to call a function named `fix_and_calculate_yearly_sales`. \n",
    "# However, the function definition is not provided. \n",
    "# It's likely intended for further data processing or calculations specific to your needs.\n",
    "\n",
    "df_export = fix_and_calculate_yearly_sales(df.copy())  # Assuming the function exists\n",
    "\n",
    "# Print the Resulting DataFrame (Summary of Yearly Sales)\n",
    "\n",
    "#df_export\n"
   ]
  },
  {
   "cell_type": "code",
   "execution_count": 49,
   "metadata": {},
   "outputs": [],
   "source": [
    "df_export.to_csv(\n",
    "    # Path or buffer where to write the DataFrame (file path or file-like object)\n",
    "    \"../output/YearlyProductSalesTotals.csv\",\n",
    "\n",
    "    # Include column headers in the first row (default: True)\n",
    "    header=True,\n",
    "\n",
    "    # Exclude the DataFrame's index (default: True)\n",
    "    index=False,\n",
    "\n",
    "    # Encoding for the data (default: 'utf-8')\n",
    "    encoding='utf-8'\n",
    ")\n"
   ]
  },
  {
   "cell_type": "code",
   "execution_count": 48,
   "metadata": {},
   "outputs": [],
   "source": [
    "# Export to JSON - Souvenirs in a Digital Satchel!\n",
    "\n",
    "# Our data expedition has been a success! We've unearthed valuable insights stored in the \"df_export\" DataFrame.\n",
    "# But wouldn't it be cool to have a digital version of our souvenirs, a JSON file, to share with others?\n",
    "\n",
    "# Here's how we pack our loot into a JSON file named \"YearlyProductSalesTotals.json\":\n",
    "\n",
    "df_export.to_json(\n",
    "    \"../output/YearlyProductSalesTotals.json\",  # Path to the output JSON file\n",
    "    # How to represent each row of the DataFrame (default: 'index')\n",
    "    orient='records'\n",
    ")\n"
   ]
  },
  {
   "cell_type": "code",
   "execution_count": 46,
   "metadata": {},
   "outputs": [],
   "source": [
    "# Export to Excel - The Grand Finale of Our Expedition!\n",
    "\n",
    "# Time to showcase the grand finale of our data expedition! We're going to export our findings,\n",
    "# stored in the \"df_export\" DataFrame, to a shiny new Excel file named \"YearlyProductSalesTotals.xlsx\".\n",
    "\n",
    "# This Excel file will be like a detailed report summarizing our exploration and insights.\n",
    "\n",
    "df_export.to_excel(\"../output/YearlyProductSalesTotals.xlsx\",\n",
    "\n",
    "    # Include column headers in the first row of the sheet (default: True)\n",
    "    header=True,\n",
    "\n",
    "    # Exclude the DataFrame's index (default: True)\n",
    "    index=False\n",
    ")\n"
   ]
  },
  {
   "cell_type": "code",
   "execution_count": null,
   "metadata": {
    "collapsed": true,
    "jupyter": {
     "outputs_hidden": true
    }
   },
   "outputs": [],
   "source": []
  }
 ],
 "metadata": {
  "anaconda-cloud": {},
  "kernelspec": {
   "display_name": "Python 3 (ipykernel)",
   "language": "python",
   "name": "python3"
  },
  "language_info": {
   "codemirror_mode": {
    "name": "ipython",
    "version": 3
   },
   "file_extension": ".py",
   "mimetype": "text/x-python",
   "name": "python",
   "nbconvert_exporter": "python",
   "pygments_lexer": "ipython3",
   "version": "3.12.1"
  }
 },
 "nbformat": 4,
 "nbformat_minor": 4
}
